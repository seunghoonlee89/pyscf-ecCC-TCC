{
 "cells": [
  {
   "cell_type": "markdown",
   "metadata": {},
   "source": [
    "# Easy Ab initio calculation with ASE-Siesta-Pyscf\n",
    "\n",
    "## No installation necessary, just download a ready to go container for any system, or run it into the cloud"
   ]
  },
  {
   "cell_type": "markdown",
   "metadata": {},
   "source": [
    "### We first import the necessary libraries and define the system using ASE"
   ]
  },
  {
   "cell_type": "code",
   "execution_count": null,
   "metadata": {},
   "outputs": [],
   "source": [
    "# import libraries and set up the molecule geometry\n",
    "\n",
    "from ase.units import Ry, eV, Ha\n",
    "from ase.calculators.siesta import Siesta\n",
    "from ase import Atoms\n",
    "import numpy as np\n",
    "import matplotlib.pyplot as plt\n",
    "\n",
    "from ase.build import molecule\n",
    "\n",
    "CH4 = molecule(\"CH4\")\n",
    "\n",
    "# visualization of the particle\n",
    "from ase.visualize import view\n",
    "view(CH4, viewer='x3d')"
   ]
  },
  {
   "cell_type": "markdown",
   "metadata": {},
   "source": [
    "### We can then run the DFT calculation using Siesta"
   ]
  },
  {
   "cell_type": "code",
   "execution_count": null,
   "metadata": {
    "collapsed": true
   },
   "outputs": [],
   "source": [
    "# enter siesta input and run siesta\n",
    "siesta = Siesta(\n",
    "    mesh_cutoff=150 * Ry,\n",
    "    basis_set='DZP',\n",
    "    pseudo_qualifier='lda',\n",
    "    energy_shift=(10 * 10**-3) * eV,\n",
    "    fdf_arguments={\n",
    "        'SCFMustConverge': False,\n",
    "        'COOP.Write': True,\n",
    "        'WriteDenchar': True,\n",
    "        'PAO.BasisType': 'split',\n",
    "        'DM.Tolerance': 1e-4,\n",
    "        'DM.MixingWeight': 0.1,\n",
    "        'MaxSCFIterations': 300,\n",
    "        'DM.NumberPulay': 4,\n",
    "        'XML.Write': True})\n",
    "\n",
    "CH4.set_calculator(siesta)\n",
    "e = CH4.get_potential_energy()"
   ]
  },
  {
   "cell_type": "markdown",
   "metadata": {},
   "source": [
    "### Calculating the dos and the pdos with PySCF-NAO"
   ]
  },
  {
   "cell_type": "code",
   "execution_count": null,
   "metadata": {},
   "outputs": [],
   "source": [
    "# compute dos and pdos using pyscf-nao\n",
    "\n",
    "from pyscf.nao import scf\n",
    "\n",
    "dft = scf(label=\"siesta\")\n",
    "omegas = np.arange(0.0, 10.0, 0.05) + 1.0j*0.01\n",
    "omegas/= Ha\n",
    "dos = dft.dos(omegas)\n",
    "pdos = dft.pdos(omegas)"
   ]
  },
  {
   "cell_type": "code",
   "execution_count": null,
   "metadata": {},
   "outputs": [],
   "source": [
    "# plot polarizability with matplotlib\n",
    "%matplotlib inline\n",
    "\n",
    "fig = plt.figure(1)\n",
    "ax1 = fig.add_subplot(121)\n",
    "ax2 = fig.add_subplot(122)\n",
    "ax1.plot(omegas*Ha, dos)\n",
    "print(pdos.shape)\n",
    "\n",
    "for i in range(pdos.shape[0]):\n",
    "    ax2.plot(omegas*Ha, pdos[i, :])\n",
    "\n",
    "ax1.set_xlabel(r\"$\\omega$ (eV)\")\n",
    "ax2.set_xlabel(r\"$\\omega$ (eV)\")\n",
    "\n",
    "ax1.set_ylabel(r\"dos (au)\")\n",
    "ax2.set_ylabel(r\"pdos (au)\")\n",
    "\n",
    "ax1.set_title(r\"dos\")\n",
    "ax2.set_title(r\"pdos\")\n",
    "\n",
    "fig.tight_layout()"
   ]
  },
  {
   "cell_type": "code",
   "execution_count": null,
   "metadata": {
    "collapsed": true
   },
   "outputs": [],
   "source": []
  }
 ],
 "metadata": {
  "kernelspec": {
   "display_name": "Python 3",
   "language": "python",
   "name": "python3"
  },
  "language_info": {
   "codemirror_mode": {
    "name": "ipython",
    "version": 3
   },
   "file_extension": ".py",
   "mimetype": "text/x-python",
   "name": "python",
   "nbconvert_exporter": "python",
   "pygments_lexer": "ipython3",
   "version": "3.6.3"
  }
 },
 "nbformat": 4,
 "nbformat_minor": 2
}
