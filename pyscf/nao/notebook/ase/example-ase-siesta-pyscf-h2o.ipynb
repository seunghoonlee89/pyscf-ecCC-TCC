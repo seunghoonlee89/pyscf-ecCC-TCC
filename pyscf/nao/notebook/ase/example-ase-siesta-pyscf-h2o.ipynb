{
 "cells": [
  {
   "cell_type": "markdown",
   "metadata": {},
   "source": [
    "# Easy Ab initio calculation with ASE-Siesta-Pyscf\n",
    "\n",
    "## No installation necessary, just download a ready to go container for any system, or run it into the cloud"
   ]
  },
  {
   "cell_type": "markdown",
   "metadata": {},
   "source": [
    "### We first import the necessary libraries and define the system using ASE"
   ]
  },
  {
   "cell_type": "code",
   "execution_count": null,
   "metadata": {},
   "outputs": [],
   "source": [
    "# import libraries and set up the molecule geometry\n",
    "\n",
    "from ase.units import Ry, eV, Ha\n",
    "from ase.calculators.siesta import Siesta\n",
    "from ase import Atoms\n",
    "import numpy as np\n",
    "import matplotlib.pyplot as plt\n",
    "\n",
    "H2O = Atoms('H2O', positions = [[-0.757,  0.586,  0.000],\n",
    "                                [0.757,  0.586,  0.000],\n",
    "                                [0.0, 0.0, 0.0]],\n",
    "            cell=[20, 20, 20])\n",
    "\n",
    "# visualization of the particle\n",
    "from ase.visualize import view\n",
    "view(H2O, viewer='x3d')"
   ]
  },
  {
   "cell_type": "markdown",
   "metadata": {},
   "source": [
    "### We can then run the DFT calculation using Siesta"
   ]
  },
  {
   "cell_type": "code",
   "execution_count": null,
   "metadata": {
    "collapsed": true
   },
   "outputs": [],
   "source": [
    "# enter siesta input and run siesta\n",
    "siesta = Siesta(\n",
    "    mesh_cutoff=150 * Ry,\n",
    "    basis_set='DZP',\n",
    "    pseudo_qualifier='lda',\n",
    "    energy_shift=(10 * 10**-3) * eV,\n",
    "    fdf_arguments={\n",
    "        'SCFMustConverge': False,\n",
    "        'COOP.Write': True,\n",
    "        'WriteDenchar': True,\n",
    "        'PAO.BasisType': 'split',\n",
    "        'DM.Tolerance': 1e-4,\n",
    "        'DM.MixingWeight': 0.01,\n",
    "        'MaxSCFIterations': 300,\n",
    "        'DM.NumberPulay': 4,\n",
    "        'XML.Write': True})\n",
    "\n",
    "H2O.set_calculator(siesta)\n",
    "e = H2O.get_potential_energy()"
   ]
  },
  {
   "cell_type": "markdown",
   "metadata": {},
   "source": [
    "### The TDDFT calculations with PySCF-NAO"
   ]
  },
  {
   "cell_type": "code",
   "execution_count": null,
   "metadata": {
    "collapsed": true
   },
   "outputs": [],
   "source": [
    "# compute polarizability using pyscf-nao\n",
    "\n",
    "siesta.pyscf_tddft(label=\"siesta\", jcutoff=7, iter_broadening=0.15/Ha,\n",
    "        xc_code='LDA,PZ', tol_loc=1e-6, tol_biloc=1e-7, freq = np.arange(0.0, 15.0, 0.05))"
   ]
  },
  {
   "cell_type": "code",
   "execution_count": null,
   "metadata": {},
   "outputs": [],
   "source": [
    "# plot polarizability with matplotlib\n",
    "%matplotlib inline\n",
    "\n",
    "fig = plt.figure(1)\n",
    "ax1 = fig.add_subplot(121)\n",
    "ax2 = fig.add_subplot(122)\n",
    "ax1.plot(siesta.results[\"freq range\"], siesta.results[\"polarizability nonin\"][:, 0, 0].imag)\n",
    "ax2.plot(siesta.results[\"freq range\"], siesta.results[\"polarizability inter\"][:, 0, 0].imag)\n",
    "\n",
    "ax1.set_xlabel(r\"$\\omega$ (eV)\")\n",
    "ax2.set_xlabel(r\"$\\omega$ (eV)\")\n",
    "\n",
    "ax1.set_ylabel(r\"Im($P_{xx}$) (au)\")\n",
    "ax2.set_ylabel(r\"Im($P_{xx}$) (au)\")\n",
    "\n",
    "ax1.set_title(r\"Non interacting\")\n",
    "ax2.set_title(r\"Interacting\")\n",
    "\n",
    "fig.tight_layout()"
   ]
  },
  {
   "cell_type": "code",
   "execution_count": null,
   "metadata": {},
   "outputs": [],
   "source": [
    "# Even better with plotly\n",
    "\n",
    "import plotly.offline as py\n",
    "import plotly.graph_objs as go\n",
    "from plotly import tools\n",
    "\n",
    "\n",
    "py.init_notebook_mode(connected=True)\n",
    "\n",
    "fig_plotly = tools.make_subplots(rows=1, cols=2, specs=[[{}, {}]],\n",
    "         subplot_titles=('Non interacting', 'interacting'))\n",
    "\n",
    "fig_plotly.append_trace(go.Scatter(x=siesta.results[\"freq range\"],\n",
    "                y=siesta.results[\"polarizability nonin\"][:, 0, 0].imag, name=\"Non interacting\",\n",
    "                mode = \"lines\",\n",
    "                line=dict(color=\"blue\", width=3)), 1, 1)\n",
    "\n",
    "fig_plotly.append_trace(go.Scatter(x=siesta.results[\"freq range\"],\n",
    "                y=siesta.results[\"polarizability inter\"][:, 0, 0].imag, name=\"interacting\",\n",
    "                mode = \"lines\",\n",
    "                line=dict(color=\"red\", width=3)), 1, 2)\n",
    "\n",
    "fig_plotly['layout']['xaxis1'].update(title='Energy (eV)', titlefont={'size': 25}, tickfont={'size': 17})\n",
    "fig_plotly['layout']['xaxis2'].update(title='Energy (eV)', titlefont={'size': 25}, tickfont={'size': 17})\n",
    "\n",
    "fig_plotly['layout']['yaxis1'].update(title='Im(Pxx) (eV)', titlefont={'size': 25}, tickfont={'size': 17})\n",
    "\n",
    "py.iplot(fig_plotly, filename='pol_h2o.html')"
   ]
  },
  {
   "cell_type": "code",
   "execution_count": null,
   "metadata": {
    "collapsed": true
   },
   "outputs": [],
   "source": []
  }
 ],
 "metadata": {
  "kernelspec": {
   "display_name": "Python 3",
   "language": "python",
   "name": "python3"
  },
  "language_info": {
   "codemirror_mode": {
    "name": "ipython",
    "version": 3
   },
   "file_extension": ".py",
   "mimetype": "text/x-python",
   "name": "python",
   "nbconvert_exporter": "python",
   "pygments_lexer": "ipython3",
   "version": "3.6.3"
  }
 },
 "nbformat": 4,
 "nbformat_minor": 2
}
